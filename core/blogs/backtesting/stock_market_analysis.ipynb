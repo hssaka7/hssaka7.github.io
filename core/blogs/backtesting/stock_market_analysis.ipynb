{
 "cells": [
  {
   "cell_type": "markdown",
   "metadata": {},
   "source": [
    "---\n",
    "title: \"Backtesting Trading Strategy\"\n",
    "\n",
    "description: \"Bactest the Stock for RSI and SMA indicator\"\n",
    "author: \"Aakash Basnet\"\n",
    "date: \"2024/01/26\n",
    "page-layout: full\n",
    "categories:\n",
    "  - python\n",
    "  - stock\n",
    "format:\n",
    "  html:\n",
    "    code-fold: true\n",
    "jupyter: python3\n",
    "---"
   ]
  },
  {
   "cell_type": "markdown",
   "metadata": {},
   "source": [
    "# Installation\n",
    "On your terminal run the following command to install yfinance module.\n",
    "```\n",
    "pip install backtesting\n",
    "```"
   ]
  },
  {
   "cell_type": "markdown",
   "metadata": {},
   "source": [
    "# Extract Company in SP500 \n",
    "Firstly, lets extract the SP500 tickers from wikipedia table."
   ]
  },
  {
   "cell_type": "code",
   "execution_count": 7,
   "metadata": {},
   "outputs": [],
   "source": [
    "import pandas as pd\n",
    "\n",
    "\n",
    "def SMA(array, n):\n",
    "    \"\"\"Simple moving average\"\"\"\n",
    "    return pd.Series(array).rolling(n).mean()\n",
    "\n",
    "\n",
    "def RSI(array, n):\n",
    "    \"\"\"Relative strength index\"\"\"\n",
    "    # Approximate; good enough\n",
    "    gain = pd.Series(array).diff()\n",
    "    loss = gain.copy()\n",
    "    gain[gain < 0] = 0\n",
    "    loss[loss > 0] = 0\n",
    "    rs = gain.ewm(n).mean() / loss.abs().ewm(n).mean()\n",
    "    return 100 - 100 / (1 + rs)"
   ]
  },
  {
   "cell_type": "code",
   "execution_count": 8,
   "metadata": {},
   "outputs": [],
   "source": [
    "from backtesting import Strategy, Backtest\n",
    "from backtesting.lib import resample_apply\n",
    "\n",
    "\n",
    "class System(Strategy):\n",
    "    d_rsi = 30  # Daily RSI lookback periods\n",
    "    w_rsi = 30  # Weekly\n",
    "    level = 70\n",
    "    \n",
    "    def init(self):\n",
    "        # Compute moving averages the strategy demands\n",
    "        self.ma10 = self.I(SMA, self.data.Close, 10)\n",
    "        self.ma20 = self.I(SMA, self.data.Close, 20)\n",
    "        self.ma50 = self.I(SMA, self.data.Close, 50)\n",
    "        self.ma100 = self.I(SMA, self.data.Close, 100)\n",
    "        \n",
    "        # Compute daily RSI(30)\n",
    "        self.daily_rsi = self.I(RSI, self.data.Close, self.d_rsi)\n",
    "        \n",
    "        # To construct weekly RSI, we can use `resample_apply()`\n",
    "        # helper function from the library\n",
    "        self.weekly_rsi = resample_apply(\n",
    "            'W-FRI', RSI, self.data.Close, self.w_rsi)\n",
    "        \n",
    "        \n",
    "    def next(self):\n",
    "        price = self.data.Close[-1]\n",
    "        \n",
    "        # If we don't already have a position, and\n",
    "        # if all conditions are satisfied, enter long.\n",
    "        if (not self.position and\n",
    "            self.daily_rsi[-1] > self.level and\n",
    "            self.weekly_rsi[-1] > self.level and\n",
    "            self.weekly_rsi[-1] > self.daily_rsi[-1] and\n",
    "            self.ma10[-1] > self.ma20[-1] > self.ma50[-1] > self.ma100[-1] and\n",
    "            price > self.ma10[-1]):\n",
    "            \n",
    "            # Buy at market price on next open, but do\n",
    "            # set 8% fixed stop loss.\n",
    "            self.buy(sl=.92 * price)\n",
    "        \n",
    "        # If the price closes 2% or more below 10-day MA\n",
    "        # close the position, if any.\n",
    "        elif price < .98 * self.ma10[-1]:\n",
    "            self.position.close()"
   ]
  },
  {
   "cell_type": "code",
   "execution_count": 9,
   "metadata": {},
   "outputs": [
    {
     "data": {
      "text/plain": [
       "Start                     2004-08-19 00:00:00\n",
       "End                       2013-03-01 00:00:00\n",
       "Duration                   3116 days 00:00:00\n",
       "Exposure Time [%]                      2.7933\n",
       "Equity Final [$]                  10017.44422\n",
       "Equity Peak [$]                    10978.3801\n",
       "Return [%]                            0.17444\n",
       "Buy & Hold Return [%]               703.45824\n",
       "Return (Ann.) [%]                     0.02045\n",
       "Volatility (Ann.) [%]                 4.94121\n",
       "CAGR [%]                               0.0141\n",
       "Sharpe Ratio                          0.00414\n",
       "Sortino Ratio                         0.00536\n",
       "Calmar Ratio                          0.00204\n",
       "Max. Drawdown [%]                   -10.00745\n",
       "Avg. Drawdown [%]                    -9.34009\n",
       "Max. Drawdown Duration     2653 days 00:00:00\n",
       "Avg. Drawdown Duration     1410 days 00:00:00\n",
       "# Trades                                    4\n",
       "Win Rate [%]                             25.0\n",
       "Best Trade [%]                        9.68758\n",
       "Worst Trade [%]                      -4.45616\n",
       "Avg. Trade [%]                        0.08171\n",
       "Max. Trade Duration          35 days 00:00:00\n",
       "Avg. Trade Duration          21 days 00:00:00\n",
       "Profit Factor                         1.10514\n",
       "Expectancy [%]                        0.23041\n",
       "SQN                                   0.01423\n",
       "Kelly Criterion                       0.00483\n",
       "_strategy                              System\n",
       "_equity_curve                             ...\n",
       "_trades                      Size  EntryBa...\n",
       "dtype: object"
      ]
     },
     "execution_count": 9,
     "metadata": {},
     "output_type": "execute_result"
    }
   ],
   "source": [
    "from backtesting.test import GOOG\n",
    "\n",
    "backtest = Backtest(GOOG, System, commission=.002)\n",
    "backtest.run()"
   ]
  },
  {
   "cell_type": "code",
   "execution_count": 10,
   "metadata": {},
   "outputs": [
    {
     "data": {
      "text/html": [
       "<div style=\"display: table;\"><div style=\"display: table-row;\"><div style=\"display: table-cell;\"><b title=\"bokeh.models.plots.GridPlot\">GridPlot</b>(</div><div style=\"display: table-cell;\">id&nbsp;=&nbsp;'p1873', <span id=\"p1908\" style=\"cursor: pointer;\">&hellip;)</span></div></div><div class=\"p1907\" style=\"display: none;\"><div style=\"display: table-cell;\"></div><div style=\"display: table-cell;\">align&nbsp;=&nbsp;'auto',</div></div><div class=\"p1907\" style=\"display: none;\"><div style=\"display: table-cell;\"></div><div style=\"display: table-cell;\">aspect_ratio&nbsp;=&nbsp;None,</div></div><div class=\"p1907\" style=\"display: none;\"><div style=\"display: table-cell;\"></div><div style=\"display: table-cell;\">children&nbsp;=&nbsp;[(figure(id='p1466', ...), 0, 0), (figure(id='p1565', ...), 1, 0), (figure(id='p1420', ...), 2, 0), (figure(id='p1622', ...), 3, 0), (figure(id='p1759', ...), 4, 0), (figure(id='p1807', ...), 5, 0)],</div></div><div class=\"p1907\" style=\"display: none;\"><div style=\"display: table-cell;\"></div><div style=\"display: table-cell;\">cols&nbsp;=&nbsp;None,</div></div><div class=\"p1907\" style=\"display: none;\"><div style=\"display: table-cell;\"></div><div style=\"display: table-cell;\">context_menu&nbsp;=&nbsp;None,</div></div><div class=\"p1907\" style=\"display: none;\"><div style=\"display: table-cell;\"></div><div style=\"display: table-cell;\">css_classes&nbsp;=&nbsp;[],</div></div><div class=\"p1907\" style=\"display: none;\"><div style=\"display: table-cell;\"></div><div style=\"display: table-cell;\">css_variables&nbsp;=&nbsp;{},</div></div><div class=\"p1907\" style=\"display: none;\"><div style=\"display: table-cell;\"></div><div style=\"display: table-cell;\">disabled&nbsp;=&nbsp;False,</div></div><div class=\"p1907\" style=\"display: none;\"><div style=\"display: table-cell;\"></div><div style=\"display: table-cell;\">elements&nbsp;=&nbsp;[],</div></div><div class=\"p1907\" style=\"display: none;\"><div style=\"display: table-cell;\"></div><div style=\"display: table-cell;\">flow_mode&nbsp;=&nbsp;'block',</div></div><div class=\"p1907\" style=\"display: none;\"><div style=\"display: table-cell;\"></div><div style=\"display: table-cell;\">height&nbsp;=&nbsp;None,</div></div><div class=\"p1907\" style=\"display: none;\"><div style=\"display: table-cell;\"></div><div style=\"display: table-cell;\">height_policy&nbsp;=&nbsp;'auto',</div></div><div class=\"p1907\" style=\"display: none;\"><div style=\"display: table-cell;\"></div><div style=\"display: table-cell;\">js_event_callbacks&nbsp;=&nbsp;{},</div></div><div class=\"p1907\" style=\"display: none;\"><div style=\"display: table-cell;\"></div><div style=\"display: table-cell;\">js_property_callbacks&nbsp;=&nbsp;{},</div></div><div class=\"p1907\" style=\"display: none;\"><div style=\"display: table-cell;\"></div><div style=\"display: table-cell;\">margin&nbsp;=&nbsp;None,</div></div><div class=\"p1907\" style=\"display: none;\"><div style=\"display: table-cell;\"></div><div style=\"display: table-cell;\">max_height&nbsp;=&nbsp;None,</div></div><div class=\"p1907\" style=\"display: none;\"><div style=\"display: table-cell;\"></div><div style=\"display: table-cell;\">max_width&nbsp;=&nbsp;None,</div></div><div class=\"p1907\" style=\"display: none;\"><div style=\"display: table-cell;\"></div><div style=\"display: table-cell;\">min_height&nbsp;=&nbsp;None,</div></div><div class=\"p1907\" style=\"display: none;\"><div style=\"display: table-cell;\"></div><div style=\"display: table-cell;\">min_width&nbsp;=&nbsp;None,</div></div><div class=\"p1907\" style=\"display: none;\"><div style=\"display: table-cell;\"></div><div style=\"display: table-cell;\">name&nbsp;=&nbsp;None,</div></div><div class=\"p1907\" style=\"display: none;\"><div style=\"display: table-cell;\"></div><div style=\"display: table-cell;\">resizable&nbsp;=&nbsp;False,</div></div><div class=\"p1907\" style=\"display: none;\"><div style=\"display: table-cell;\"></div><div style=\"display: table-cell;\">rows&nbsp;=&nbsp;None,</div></div><div class=\"p1907\" style=\"display: none;\"><div style=\"display: table-cell;\"></div><div style=\"display: table-cell;\">sizing_mode&nbsp;=&nbsp;'stretch_width',</div></div><div class=\"p1907\" style=\"display: none;\"><div style=\"display: table-cell;\"></div><div style=\"display: table-cell;\">spacing&nbsp;=&nbsp;0,</div></div><div class=\"p1907\" style=\"display: none;\"><div style=\"display: table-cell;\"></div><div style=\"display: table-cell;\">styles&nbsp;=&nbsp;{},</div></div><div class=\"p1907\" style=\"display: none;\"><div style=\"display: table-cell;\"></div><div style=\"display: table-cell;\">stylesheets&nbsp;=&nbsp;[],</div></div><div class=\"p1907\" style=\"display: none;\"><div style=\"display: table-cell;\"></div><div style=\"display: table-cell;\">subscribed_events&nbsp;=&nbsp;PropertyValueSet(),</div></div><div class=\"p1907\" style=\"display: none;\"><div style=\"display: table-cell;\"></div><div style=\"display: table-cell;\">syncable&nbsp;=&nbsp;True,</div></div><div class=\"p1907\" style=\"display: none;\"><div style=\"display: table-cell;\"></div><div style=\"display: table-cell;\">tags&nbsp;=&nbsp;[],</div></div><div class=\"p1907\" style=\"display: none;\"><div style=\"display: table-cell;\"></div><div style=\"display: table-cell;\">toolbar&nbsp;=&nbsp;Toolbar(id='p1872', ...),</div></div><div class=\"p1907\" style=\"display: none;\"><div style=\"display: table-cell;\"></div><div style=\"display: table-cell;\">toolbar_location&nbsp;=&nbsp;'right',</div></div><div class=\"p1907\" style=\"display: none;\"><div style=\"display: table-cell;\"></div><div style=\"display: table-cell;\">visible&nbsp;=&nbsp;True,</div></div><div class=\"p1907\" style=\"display: none;\"><div style=\"display: table-cell;\"></div><div style=\"display: table-cell;\">width&nbsp;=&nbsp;None,</div></div><div class=\"p1907\" style=\"display: none;\"><div style=\"display: table-cell;\"></div><div style=\"display: table-cell;\">width_policy&nbsp;=&nbsp;'auto')</div></div></div>\n",
       "<script>\n",
       "(function() {\n",
       "  let expanded = false;\n",
       "  const ellipsis = document.getElementById(\"p1908\");\n",
       "  ellipsis.addEventListener(\"click\", function() {\n",
       "    const rows = document.getElementsByClassName(\"p1907\");\n",
       "    for (let i = 0; i < rows.length; i++) {\n",
       "      const el = rows[i];\n",
       "      el.style.display = expanded ? \"none\" : \"table-row\";\n",
       "    }\n",
       "    ellipsis.innerHTML = expanded ? \"&hellip;)\" : \"&lsaquo;&lsaquo;&lsaquo;\";\n",
       "    expanded = !expanded;\n",
       "  });\n",
       "})();\n",
       "</script>\n"
      ],
      "text/plain": [
       "GridPlot(id='p1873', ...)"
      ]
     },
     "execution_count": 10,
     "metadata": {},
     "output_type": "execute_result"
    }
   ],
   "source": [
    "backtest.plot()"
   ]
  }
 ],
 "metadata": {
  "kernelspec": {
   "display_name": ".venv",
   "language": "python",
   "name": "python3"
  },
  "language_info": {
   "codemirror_mode": {
    "name": "ipython",
    "version": 3
   },
   "file_extension": ".py",
   "mimetype": "text/x-python",
   "name": "python",
   "nbconvert_exporter": "python",
   "pygments_lexer": "ipython3",
   "version": "3.12.3"
  }
 },
 "nbformat": 4,
 "nbformat_minor": 4
}
